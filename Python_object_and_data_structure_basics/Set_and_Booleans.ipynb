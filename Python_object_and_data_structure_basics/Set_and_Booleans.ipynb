{
 "cells": [
  {
   "cell_type": "code",
   "execution_count": 43,
   "metadata": {},
   "outputs": [
    {
     "name": "stdout",
     "output_type": "stream",
     "text": [
      "********Set and Booleans********\n",
      "\n",
      "********Set********\n",
      "\n",
      "Type of x: <class 'set'>\n",
      "Set x: {8, 'Nura', 37.9}\n",
      "Set x after repeatedly adding elements: {8, 88, 'Nura', 37.9}\n",
      "\n",
      "Set y: {472.66, 'Uyag', 86}\n",
      "Type of y: <class 'set'>\n",
      "\n",
      "List is: [9, 'Luhta', 9, 86.5, 'Luhta', 83, 86.5]\n",
      "List cast as a set: {9, 83, 'Luhta', 86.5}\n",
      "\n",
      "\n",
      "********Booleans********\n",
      "\n",
      "a: True; b: False; c: None\n",
      "1==2: False; 1<2: True\n"
     ]
    }
   ],
   "source": [
    "print(\"********Set and Booleans********\\n\")\n",
    "\n",
    "print(\"********Set********\\n\")\n",
    "'''\n",
    "Set is an unordered collection of UNIQUE elements.\n",
    "We can construct a set by set()\n",
    "Immutable\n",
    "Set object is not indexable(callable) and sliceable(subscriptable)\n",
    "Concatination cannot be done in set\n",
    "'''\n",
    "\n",
    "# One way to initialise a set\n",
    "x = set()\n",
    "print(\"Type of x: {}\".format(type(x)))\n",
    "\n",
    "# Initalising the created set\n",
    "# Add to set by add(); add() takes only 1 argument, it can be a string/integer/float.\n",
    "x.add(8), x.add('Nura'), x.add(37.9)\n",
    "print(\"Set x: {}\".format(x))\n",
    "\n",
    "# Adding element repeatedly\n",
    "x.add(8), x.add('Nura'), x.add(37.9), x.add(88)\n",
    "print(f\"Set x after repeatedly adding elements: {x}\")\n",
    "\n",
    "# Onother way to define and initialise a set\n",
    "y = {86, 'Uyag', 472.66}\n",
    "print(\"\\nSet y: {}\".format(y))\n",
    "print(\"Type of y: {}\".format(type(y)))\n",
    "\n",
    "# List with repeats will get arranged to UNIQUE elementes if it casts to a set\n",
    "lst = [9, 'Luhta', 9, 86.5, 'Luhta', 83, 86.5]\n",
    "print(\"\\nList is: {}\".format(lst))\n",
    "print(f\"List cast as a set: {set(lst)}\")\n",
    "\n",
    "\n",
    "print(\"\\n\\n********Booleans********\\n\")\n",
    "\n",
    "# Object to be a boolean\n",
    "# True and False are basically bits of 1 and 0\n",
    "# None as a PLACEHOLDER for an object that we don't want to reassign yet.\n",
    "a = True\n",
    "b = False\n",
    "c = None\n",
    "print(f\"a: {a}; b: {b}; c: {c}\")\n",
    "\n",
    "# Comparison operator to create boolean\n",
    "print(f\"1==2: {1>2}; 1<2: {1!=2}\")\n"
   ]
  }
 ],
 "metadata": {
  "kernelspec": {
   "display_name": "Python 3",
   "language": "python",
   "name": "python3"
  },
  "language_info": {
   "codemirror_mode": {
    "name": "ipython",
    "version": 3
   },
   "file_extension": ".py",
   "mimetype": "text/x-python",
   "name": "python",
   "nbconvert_exporter": "python",
   "pygments_lexer": "ipython3",
   "version": "3.6.4"
  }
 },
 "nbformat": 4,
 "nbformat_minor": 2
}
