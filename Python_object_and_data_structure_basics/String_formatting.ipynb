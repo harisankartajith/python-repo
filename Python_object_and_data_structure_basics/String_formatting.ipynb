{
 "cells": [
  {
   "cell_type": "code",
   "execution_count": 49,
   "metadata": {},
   "outputs": [
    {
     "name": "stdout",
     "output_type": "stream",
     "text": [
      "********string formatting********\n",
      "\n",
      "********formatting with plceholders********\n",
      "\n",
      "His name is Arun and he got a very\tbig fish called 'karimeen'\n",
      "Arun is tracking my 'program', at any time between 8.35 and 11pm\n",
      "'Arun' got Rs of 1000.53, he bought a mask costs   2.37Rs.\n",
      "Here the number 100.360 takes no extra padding space, while this number    100.360 takes.\n",
      "\n",
      "\n",
      "********method .format()********\n",
      "\n",
      "there are animals like dog, \n",
      "cat, cow that is Indian cow, elephant and gayathry.\n",
      "animal   | age\n",
      "monkey  | 32.5678\n",
      "10====== | ...11... | ***12.35\n",
      "\n",
      "\n",
      "********f-strings********\n",
      "\n",
      "Her name is gayathry and we call her 'sreekku'\n",
      "My age is 24.368 in precisely 24.3680 that is also 24.37\n"
     ]
    }
   ],
   "source": [
    "print(\"********string formatting********\")\n",
    "'''\n",
    "using modulo % operator\n",
    "using format()\n",
    "using f.strings\n",
    "'''\n",
    "print(\"\\n********formatting with plceholders********\\n\")\n",
    "\n",
    "# format conversions from python object to string using %s %r %d\n",
    "# %r is string represaentation and %d is converting number to integer\n",
    "name = \"Arun\"\n",
    "print(\"His name is %s and he got a %s fish called %r\" %(name, 'very\\tbig', 'karimeen'))\n",
    "print(\"%s is tracking my %r, at any time between %s and %dpm\" %(name, 'program', 8.35, 11.59))\n",
    "\n",
    "# padding and precision of floating point numbers \n",
    "# %x.yf, where x is the minimum number of characters and y is the numbers past decimal point\n",
    "print(\"%r got Rs of %6.2f, he bought a mask costs %6.2fRs.\" %(name, 1000.532, 2.367))\n",
    "print(\"Here the number %1.3f takes no extra padding space, while this number %10.3f takes.\" %(100.3598, 100.3598))\n",
    "\n",
    "\n",
    "print(\"\\n\\n********method .format()********\\n\")\n",
    "\n",
    "# inserting objects by autoplacing, index position, assigned keywords and also can reuse\n",
    "name2 = \"gayathry\"\n",
    "print(\"there are animals like {}, \" .format(\"dog\"))\n",
    "print(\"{a}, {b} that is Indian {b},\" .format(a = \"cat\", b = \"cow\") + \" {1} and {0}.\".format(name2, \"elephant\"))\n",
    "\n",
    "# alignment, padding and precision\n",
    "# assign field length {x:y} where x is index position and y is minimum number of characters\n",
    "print(\"{0:8} | {1:2}\" .format(\"animal\", \"age\"))\n",
    "print(\"{1:7} | {0:1}\" .format(32.5678, \"monkey\"))\n",
    "\n",
    "# assign left/right/centre alignment operators </>/^ with padding characters and float precision\n",
    "print(\"{0:=<8} | {1:.^8} | {2:*>8.2f}\" .format(10, 11, 12.346))\n",
    "\n",
    "\n",
    "print(\"\\n\\n********f-strings********\\n\")\n",
    "\n",
    "# !r to get string representation\n",
    "name3 = \"sreekku\"\n",
    "print(f\"Her name is {name2} and we call her {name3!r}\")\n",
    "\n",
    "# float precision in two ways\n",
    "num = 24.3680\n",
    "print(f\"My age is {num} in precisely {num:5.4f} that is also {num:{5}.{4}}\")"
   ]
  },
  {
   "cell_type": "code",
   "execution_count": null,
   "metadata": {},
   "outputs": [],
   "source": []
  }
 ],
 "metadata": {
  "kernelspec": {
   "display_name": "Python 3",
   "language": "python",
   "name": "python3"
  },
  "language_info": {
   "codemirror_mode": {
    "name": "ipython",
    "version": 3
   },
   "file_extension": ".py",
   "mimetype": "text/x-python",
   "name": "python",
   "nbconvert_exporter": "python",
   "pygments_lexer": "ipython3",
   "version": "3.6.4"
  }
 },
 "nbformat": 4,
 "nbformat_minor": 2
}
