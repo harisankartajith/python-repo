{
 "cells": [
  {
   "cell_type": "code",
   "execution_count": 15,
   "metadata": {},
   "outputs": [],
   "source": [
    "#**********Files*********\n",
    "\n",
    "# File object can be an audio file, video file, excel documents, etc.\n",
    "# Certain libraries or mudules are needed to interact with those various file types.\n",
    "\n",
    "# IPython writing a file\n",
    "# This function is specific to Jupyter notebooks\n",
    "# %%writefile is command of Jupyter notebook, it's not part of the source code.\n",
    "# this command has to write as the first line, thus a new cell is created to do so."
   ]
  },
  {
   "cell_type": "code",
   "execution_count": 65,
   "metadata": {},
   "outputs": [
    {
     "name": "stdout",
     "output_type": "stream",
     "text": [
      "Writing Filetest.txt\n"
     ]
    }
   ],
   "source": [
    "%%writefile Filetest.txt\n",
    "Hello, this is a quick test file."
   ]
  },
  {
   "cell_type": "code",
   "execution_count": 44,
   "metadata": {},
   "outputs": [
    {
     "name": "stdout",
     "output_type": "stream",
     "text": [
      "********Files********\n",
      "\n",
      "*********Opening a file********\n",
      "\n",
      "Reading myfile: Hello, this is a quick test file.\n",
      "\n",
      "Cursor move to index position 15, myfile.seek(15): 15\n",
      "Reading myfile after seek(15): a quick test file.\n",
      "\n",
      "Cursor move to index position 0, myfile.seek(0): 0\n",
      "Reading myfile with readlines(): ['Hello, this is a quick test file.']\n"
     ]
    }
   ],
   "source": [
    "print(\"********Files********\\n\")\n",
    "\n",
    "print(\"*********Opening a file********\\n\")\n",
    "\n",
    "# open() is a python built-in function\n",
    "# We have to grab files from any location on your computer\n",
    "# open() allow to read as default\n",
    "myfile = open(\"Filetest.txt\")\n",
    "\n",
    "\n",
    "# For Windows:  open(\"D:\\\\hari-python\\\\python\\\\Python object and data structure basics\\\\test.txt\")\n",
    "# For Linux/MacOS:  open(\"D:/hari-python/python/Python object and data structure basics/test.txt\")\n",
    "\n",
    "\n",
    "# read(), returns string as output.\n",
    "print(f\"Reading myfile: {myfile.read()}\")\n",
    "\n",
    "# seek(), parameter is the index point to where the cursor to be moved.\n",
    "# After read(), the cursor is at end of the file, we can reset the cursor by seek().\n",
    "# seek() returns index position value as output.\n",
    "print(f\"\\nCursor move to index position 15, myfile.seek(15): {myfile.seek(15)}\")\n",
    "print(f\"Reading myfile after seek(15): {myfile.read()}\")\n",
    "\n",
    "print(f\"\\nCursor move to index position 0, myfile.seek(0): {myfile.seek(0)}\")\n",
    "\n",
    "# readlines(), will read line by line.\n",
    "# Whatever reading will be held in memory. It's a disadvantage for large files.\n",
    "# Returns list as output.\n",
    "print(f\"Reading myfile with readlines(): {myfile.readlines()}\")\n",
    "\n",
    "# close()\n",
    "myfile.close()"
   ]
  },
  {
   "cell_type": "code",
   "execution_count": 66,
   "metadata": {},
   "outputs": [
    {
     "name": "stdout",
     "output_type": "stream",
     "text": [
      "\n",
      "\n",
      "********Writing to a file********\n",
      "\n",
      "Writing to myfile of string length: 36\n",
      "Reading myfile: This is the new line overwrote here.\n",
      "\n",
      "\n",
      "********Appending to a file********\n",
      "\n",
      "Reading appended myfile: \n",
      "This is the new line overwrote here.\n",
      "This is the appended text.\n",
      "This must be the third line.\n",
      "And another line here.\n"
     ]
    }
   ],
   "source": [
    "print(\"\\n\\n********Writing to a file********\\n\")\n",
    "\n",
    "# open() allow to read as default, we need to pass a second argument w to wirte a file\n",
    "# Argument w+ lets us both read and write\n",
    "# These arguments will truncates the file as default.\n",
    "myfile = open(\"Filetest.txt\", 'w+')\n",
    "\n",
    "# write()\n",
    "# It will returns the length of string written in the file as output.\n",
    "print(f'Writing to myfile of string length: {myfile.write(\"This is the new line overwrote here.\")}')\n",
    "# Observe use of astrophe and quotation mark. SyntaxError, while using only one, 2 times in a command line.\n",
    "\n",
    "# Reading the file\n",
    "myfile.seek(0)\n",
    "print(f\"Reading myfile: {myfile.read()}\")\n",
    "\n",
    "myfile.close()\n",
    "\n",
    "print(\"\\n\\n********Appending to a file********\\n\")\n",
    "\n",
    "# In open(), argument a puts cursor at the end.\n",
    "# Argument a+ lets us read and write to a file.\n",
    "# If the file doesn't exist, one will be created.\n",
    "myfile = open('Filetest.txt', 'a+')\n",
    "\n",
    "# Appending to the file\n",
    "myfile.write('\\nThis is the appended text.\\nThis must be the third line.')\n",
    "myfile.write('\\nAnd another line here.')\n",
    "\n",
    "# seek(0) and read\n",
    "myfile.seek(0)\n",
    "print(f\"Reading appended myfile: \\n{myfile.read()}\")\n",
    "\n",
    "myfile.close()\n",
    "\n",
    "\n",
    "# IPython appending a file\n",
    "# This function is specific to Jupyter notebooks\n",
    "# %%writefile is command of Jupyter notebook, it's not part of the source code.\n",
    "# this command has to write as the first line, thus a new cell is created to do so."
   ]
  },
  {
   "cell_type": "code",
   "execution_count": 67,
   "metadata": {},
   "outputs": [
    {
     "name": "stdout",
     "output_type": "stream",
     "text": [
      "Appending to Filetest.txt\n"
     ]
    }
   ],
   "source": [
    "%%writefile -a Filetest.txt\n",
    "\n",
    "This is the IPython appended text.\n",
    "The End...\n",
    "# Oh! comment also appended."
   ]
  },
  {
   "cell_type": "code",
   "execution_count": 68,
   "metadata": {},
   "outputs": [
    {
     "name": "stdout",
     "output_type": "stream",
     "text": [
      "********Iterating through a file********\n",
      "\n",
      "\n",
      "This is the new line overwrote here.\n",
      "\n",
      "This is the appended text.\n",
      "\n",
      "This must be the third line.\n",
      "\n",
      "And another line here.\n",
      "\n",
      "This is the IPython appended text.\n",
      "\n",
      "The End...\n",
      "\n",
      "# Oh! comment also appended.\n"
     ]
    }
   ],
   "source": [
    "# Blank space used intead of \\n, because IPython doesn't recognise escape sequences like \\n.\n",
    "\n",
    "print(\"********Iterating through a file********\\n\\n\")\n",
    "\n",
    "# Using open() in for_loop.\n",
    "# Through every line of the file and print.\n",
    "# Thus, By not calling .read() on the file, the whole text file was not stored in memory.\n",
    "for line in open('Filetest.txt'):\n",
    "    print(line)\n",
    "    "
   ]
  }
 ],
 "metadata": {
  "kernelspec": {
   "display_name": "Python 3",
   "language": "python",
   "name": "python3"
  },
  "language_info": {
   "codemirror_mode": {
    "name": "ipython",
    "version": 3
   },
   "file_extension": ".py",
   "mimetype": "text/x-python",
   "name": "python",
   "nbconvert_exporter": "python",
   "pygments_lexer": "ipython3",
   "version": "3.6.4"
  }
 },
 "nbformat": 4,
 "nbformat_minor": 2
}
