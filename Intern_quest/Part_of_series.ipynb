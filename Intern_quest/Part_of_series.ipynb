{
 "cells": [
  {
   "cell_type": "markdown",
   "metadata": {},
   "source": [
    "Write Python code to find if ALL the numbers in a given list of integers are PART of the series defined by the following. f(0) = 0 f(1) = 1 f(n) = 3*f(n-1) - 2*f(n-2) for all n > 1. def is_part_of_series(lst):\n"
   ]
  },
  {
   "cell_type": "code",
   "execution_count": 3,
   "metadata": {},
   "outputs": [
    {
     "name": "stdout",
     "output_type": "stream",
     "text": [
      "Enter the list elements : 0,1,2,3,4,5,6,7,8,9,10,11,12,13\n",
      "[0, 1, 3, 7] are in the function series.\n"
     ]
    }
   ],
   "source": [
    "series = []\n",
    "\n",
    "def is_series(num):\n",
    "    if num == 1:\n",
    "        return 1\n",
    "    if num == 0:\n",
    "        return 0\n",
    "    else:\n",
    "        return 3*is_series(num-1)-2*is_series(num-2)#reccursion for the series function\n",
    "\n",
    "def is_part_of_series(lst):\n",
    "    for num in lst:\n",
    "        if num == 0:\n",
    "            series.append(num)\n",
    "        elif num == 1:\n",
    "            series.append(num)\n",
    "        elif num > 1:\n",
    "            number = is_series(num)\n",
    "            if number in lst:\n",
    "                series.append(is_series(num))\n",
    "\n",
    "lst = input('Enter the list elements : ').split(',')#List entering\n",
    "lst = list(map(int,lst))#list mapping from str to int\n",
    "\n",
    "is_part_of_series(lst)\n",
    "print(f\"{series} are in the function series.\")\n"
   ]
  }
 ],
 "metadata": {
  "kernelspec": {
   "display_name": "Python 3",
   "language": "python",
   "name": "python3"
  },
  "language_info": {
   "codemirror_mode": {
    "name": "ipython",
    "version": 3
   },
   "file_extension": ".py",
   "mimetype": "text/x-python",
   "name": "python",
   "nbconvert_exporter": "python",
   "pygments_lexer": "ipython3",
   "version": "3.6.4"
  }
 },
 "nbformat": 4,
 "nbformat_minor": 2
}
