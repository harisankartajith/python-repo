{
 "cells": [
  {
   "cell_type": "code",
   "execution_count": 8,
   "metadata": {},
   "outputs": [
    {
     "name": "stdout",
     "output_type": "stream",
     "text": [
      "*******If, elif and else statements*******\n",
      "\n",
      "x != y is True!\n"
     ]
    }
   ],
   "source": [
    "print(\"*******If, elif and else statements*******\\n\")\n",
    "'''\n",
    "Statements are checked until a true boolian causes to run.\n",
    "'''\n",
    "\n",
    "# Initializing boolian False and None\n",
    "x = False\n",
    "y = None\n",
    "\n",
    "# Nested-if statement\n",
    "if x:\n",
    "    print('x was True!')\n",
    "    if y:\n",
    "        print('y was True!')\n",
    "    else:\n",
    "        print('Getting out of Nested-if statement.')\n",
    "elif x != y:\n",
    "    print('x != y is True!')\n",
    "else:\n",
    "    print('Nothing is True.')\n"
   ]
  }
 ],
 "metadata": {
  "kernelspec": {
   "display_name": "Python 3",
   "language": "python",
   "name": "python3"
  },
  "language_info": {
   "codemirror_mode": {
    "name": "ipython",
    "version": 3
   },
   "file_extension": ".py",
   "mimetype": "text/x-python",
   "name": "python",
   "nbconvert_exporter": "python",
   "pygments_lexer": "ipython3",
   "version": "3.6.4"
  }
 },
 "nbformat": 4,
 "nbformat_minor": 2
}
