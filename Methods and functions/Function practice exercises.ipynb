{
 "cells": [
  {
   "cell_type": "code",
   "execution_count": 6,
   "metadata": {},
   "outputs": [
    {
     "name": "stdout",
     "output_type": "stream",
     "text": [
      "********Function practice exercises********\n",
      "\n",
      "2\n",
      "5\n"
     ]
    }
   ],
   "source": [
    "print('********Function practice exercises********\\n')\n",
    "\n",
    "\n",
    "'''Write a function that returns the lesser of two given numbers if both numbers are even'''\n",
    "'''But returns the greater if one or both numbers are odd'''\n",
    "\n",
    "# Ans) \n",
    "def lesser_of_two_evens(eveodd1, eveodd2):\n",
    "    if eveodd1%2 == 0 and eveodd2%2 == 0:\n",
    "        return(min(eveodd1, eveodd2))\n",
    "    else:\n",
    "        return(max(eveodd1, eveodd2))\n",
    "        \n",
    "print(lesser_of_two_evens(2, 4))\n",
    "print(lesser_of_two_evens(2, 5))"
   ]
  },
  {
   "cell_type": "code",
   "execution_count": 11,
   "metadata": {},
   "outputs": [
    {
     "name": "stdout",
     "output_type": "stream",
     "text": [
      "True\n",
      "False\n"
     ]
    }
   ],
   "source": [
    "''' Write a function takes a two-word string and returns True if both words begin with same letter'''\n",
    "\n",
    "# Ans)\n",
    "def animal_crackers(name_anim):\n",
    "    return name_anim.split(' ')[0][0] == name_anim.split(' ')[1][0]\n",
    "    \n",
    "print(animal_crackers('Levelheaded Llama'))\n",
    "print(animal_crackers('Crazy Kangaroo'))"
   ]
  },
  {
   "cell_type": "code",
   "execution_count": 18,
   "metadata": {},
   "outputs": [
    {
     "name": "stdout",
     "output_type": "stream",
     "text": [
      "True\n",
      "True\n",
      "False\n"
     ]
    }
   ],
   "source": [
    "'''Given two integers, return True if the sum of the integers is 20 or if one of the integers is 20. If not, return False'''\n",
    "\n",
    "# Ans)\n",
    "def makes_twenty(num1, num2):\n",
    "    return 20 in (num1, num2) or num1+num2 == 20\n",
    "    \n",
    "print(makes_twenty(20, 10))\n",
    "print(makes_twenty(12, 8))\n",
    "print(makes_twenty(2, 3))"
   ]
  },
  {
   "cell_type": "code",
   "execution_count": 52,
   "metadata": {},
   "outputs": [
    {
     "name": "stdout",
     "output_type": "stream",
     "text": [
      "MacDonald\n"
     ]
    }
   ],
   "source": [
    "''' Write a function that capitalizes the first and fourth letters of a name'''\n",
    "\n",
    "# Ans)\n",
    "def old_macdonald(shop_name):\n",
    "    if len(shop_name) > 3:\n",
    "        return shop_name[ :3].capitalize() + shop_name[3:].capitalize()\n",
    "# capitalize() will capitalize the first character and make the rest lower case\n",
    "    else:\n",
    "        return 'Name too short.'\n",
    "\n",
    "print(old_macdonald('macdonald'))"
   ]
  },
  {
   "cell_type": "code",
   "execution_count": 74,
   "metadata": {},
   "outputs": [
    {
     "name": "stdout",
     "output_type": "stream",
     "text": [
      "home am I\n"
     ]
    }
   ],
   "source": [
    "'''Given a sentence, return a sentence with the words reversed'''\n",
    "\n",
    "# Ans)\n",
    "def master_yoda(sent_rev):\n",
    "    return \" \".join(sent_rev.split(' ')[::-1])\n",
    "\n",
    "print(master_yoda('I am home'))"
   ]
  },
  {
   "cell_type": "code",
   "execution_count": 77,
   "metadata": {},
   "outputs": [
    {
     "name": "stdout",
     "output_type": "stream",
     "text": [
      "True\n",
      "True\n",
      "False\n",
      "True\n"
     ]
    }
   ],
   "source": [
    "'''Given an integer n, return True if n is within 10 of either 100 or 200'''\n",
    "\n",
    "# Ans)\n",
    "def almost_there(num_range10):\n",
    "    return abs(num_range10 - 100)  <= 10 or abs(num_range10 - 200) <= 10\n",
    "\n",
    "print(almost_there(90))\n",
    "print(almost_there(104))\n",
    "print(almost_there(150))\n",
    "print(almost_there(209))"
   ]
  },
  {
   "cell_type": "code",
   "execution_count": 89,
   "metadata": {},
   "outputs": [
    {
     "name": "stdout",
     "output_type": "stream",
     "text": [
      "True\n",
      "False\n",
      "False\n"
     ]
    }
   ],
   "source": [
    "'''Given a list of ints, return True if the array contains a 3 next to a 3 somewhere.'''\n",
    "\n",
    "# Ans)\n",
    "def has_33(list33):\n",
    "    for index_num in range(len(list33) - 1):\n",
    "        if list33[index_num:index_num+2] == [3,3]:\n",
    "            return True# return statement terminating the function\n",
    "    return False# There is no need of else\n",
    "    \n",
    "print(has_33([1, 3, 3]))\n",
    "print(has_33([1, 3, 1, 3]))\n",
    "print(has_33([3, 1, 3]))"
   ]
  },
  {
   "cell_type": "code",
   "execution_count": 93,
   "metadata": {},
   "outputs": [
    {
     "name": "stdout",
     "output_type": "stream",
     "text": [
      "HHHeeellllllooo\n",
      "MMMiiissssssiiissssssiiippppppiii\n"
     ]
    }
   ],
   "source": [
    "'''Given a string, return a string where for every character in the original there are three characters'''\n",
    "\n",
    "# Ans)\n",
    "def paper_doll(word_char3):\n",
    "    return ''.join([word3*3 for word3 in word_char3])\n",
    "    \n",
    "print(paper_doll('Hello'))\n",
    "print(paper_doll('Mississippi'))"
   ]
  },
  {
   "cell_type": "code",
   "execution_count": 9,
   "metadata": {},
   "outputs": [
    {
     "name": "stdout",
     "output_type": "stream",
     "text": [
      "18\n",
      "BUST\n",
      "19\n",
      "20\n"
     ]
    }
   ],
   "source": [
    "'''Given three integers between 1 and 11, if their sum is less than or equal to 21, return their sum.'''\n",
    "'''If their sum exceeds 21 and there's an eleven, reduce the total sum by 10.'''\n",
    "'''Finally, if the sum (even after adjustment) exceeds 21, return \"BUST\"'''\n",
    "\n",
    "# Ans)\n",
    "def blackjack(num21_1, num21_2, num21_3):\n",
    "    sum_num21 = sum((num21_1, num21_2, num21_3))# sum()expect atmost two argument. So 1 tuple\n",
    "    if sum_num21 > 21:\n",
    "        if 11 in (num21_1, num21_2, num21_3):\n",
    "            return sum_num21 - 10\n",
    "        else:\n",
    "            return 'BUST'\n",
    "    return sum_num21# It can be in an else statement, but it is not necessary\n",
    "    \n",
    "print(blackjack(5, 6, 7))\n",
    "print(blackjack(9, 9, 9))\n",
    "print(blackjack(9, 9, 11))\n",
    "print(blackjack(12, 11, 7))"
   ]
  },
  {
   "cell_type": "code",
   "execution_count": 73,
   "metadata": {},
   "outputs": [
    {
     "name": "stdout",
     "output_type": "stream",
     "text": [
      "9\n",
      "9\n",
      "14\n",
      "50\n",
      "55\n"
     ]
    }
   ],
   "source": [
    "'''Return the sum of the numbers in the array,'''\n",
    "'''except ignore sections of numbers starting with a 6 and extending to the next 9'''\n",
    "'''(every 6 will be followed by at least one 9). Return 0 for no numbers.'''\n",
    "\n",
    "# Ans) My method: \n",
    "# Here if the rule '6 will be followed by 9' violated, then every number should be added.\n",
    "def summer_69(arr69):\n",
    "    switch69 = True# switch created to ON the second last return statement only after getting index6_store.\n",
    "# we get 'UnboundLocalError: local variable 'index6_store' referenced before assignment', when looping 6 after 9.\n",
    "    for index69, num69 in enumerate(arr69):\n",
    "        if 6 in arr69 and 9 in arr69:\n",
    "            if num69 == 6:\n",
    "                index6_store = index69# Storing index of 6\n",
    "                switch69 = False# Turning on the switch\n",
    "            elif num69 == 9:\n",
    "                index9_store = index69# Storing index of 9\n",
    "                if not switch69:# For switch69 is False. It is on.\n",
    "                    return sum(arr69[:index6_store] + arr69[index9_store + 1:])\n",
    "    return sum(arr69)# else statement is not required\n",
    "                     \n",
    "print(summer_69([1, 3, 5]))\n",
    "print(summer_69([4, 5, 6, 7, 8, 9]))\n",
    "print(summer_69([2, 1, 6, 9, 11]))\n",
    "print(summer_69([26, 4, 6, 14]))\n",
    "print(summer_69([26, 9, 6, 14]))"
   ]
  },
  {
   "cell_type": "code",
   "execution_count": 53,
   "metadata": {},
   "outputs": [
    {
     "name": "stdout",
     "output_type": "stream",
     "text": [
      "9\n",
      "9\n",
      "14\n",
      "30\n",
      "35\n"
     ]
    }
   ],
   "source": [
    "# Ans) Method in solutions: \n",
    "# Here numbers after 6 would'nt get added, if 6 is not followed by 9.\n",
    "def summer69_ms(arr69_ms):\n",
    "    total69_ms = 0# To add every non 6's and 9's\n",
    "    add69_ms = True# If add69_ms is True, then one loop works. If it is False the other works. Like a switch.\n",
    "    for num69_ms in arr69_ms:\n",
    "        while add69_ms:\n",
    "            if num69_ms != 6:\n",
    "                total69_ms += num69_ms\n",
    "                break\n",
    "            else:\n",
    "                add69_ms = False#until 9 comes, add69_ms will be false and no numbers will get added.\n",
    "        while not add69_ms:\n",
    "            if num69_ms != 9:\n",
    "                break\n",
    "            else:\n",
    "                add69_ms = True# For adding the numbers after 9.\n",
    "    return total69_ms\n",
    "                \n",
    "print(summer69_ms([1, 3, 5]))\n",
    "print(summer69_ms([4, 5, 6, 7, 8, 9]))\n",
    "print(summer69_ms([2, 1, 6, 9, 11])) \n",
    "print(summer69_ms([26, 4, 6, 14]))\n",
    "print(summer69_ms([26, 9, 6, 14]))"
   ]
  },
  {
   "cell_type": "code",
   "execution_count": 75,
   "metadata": {},
   "outputs": [
    {
     "name": "stdout",
     "output_type": "stream",
     "text": [
      "True\n",
      "False\n",
      "False\n"
     ]
    }
   ],
   "source": [
    "'''Write a function that takes in a list of integers and returns True if it contains 007 in order'''\n",
    "\n",
    "# Ans) Question misunderstood:\n",
    "def spy_game_mu(list007_mu):\n",
    "    for index007_mu, num007_mu in enumerate(list007_mu):\n",
    "        if num007_mu == 7 and list007_mu[index007_mu - 1] == 0 and list007_mu[index007_mu - 2] == 0:\n",
    "            return True\n",
    "    return False\n",
    "\n",
    "print(spy_game_mu([1, 2, 4, 0, 0, 7, 5]))\n",
    "print(spy_game_mu([1, 0, 2, 4, 0, 5, 7]))\n",
    "print(spy_game_mu([1, 7, 2, 0, 4, 5, 0]))"
   ]
  },
  {
   "cell_type": "code",
   "execution_count": 4,
   "metadata": {},
   "outputs": [
    {
     "name": "stdout",
     "output_type": "stream",
     "text": [
      "True\n",
      "True\n",
      "False\n",
      "False\n"
     ]
    }
   ],
   "source": [
    "# Ans) My method(too long):\n",
    "# Game of switches!\n",
    "def spy_game(list007):\n",
    "    switch007_1 = True# Switch between if statements of the two zeroes.\n",
    "    switch007_2 = True# Switch to open if statement of 7.\n",
    "    for num007 in list007:\n",
    "        if not switch007_2:# if it is while statement, loop get infinite when a non-7 enters.\n",
    "            if num007 == 7:\n",
    "                return True\n",
    "        while not switch007_1:# not False and not None is True.\n",
    "            if num007 == 0:\n",
    "                switch007_2 = False# Opening if statement of 7.\n",
    "            break\n",
    "        while switch007_1:# The First switch loop.\n",
    "            if num007 == 0:\n",
    "                switch007_1 = False# Closing current-if statement and opening the other 0's if statement.\n",
    "            break\n",
    "# if break inside if statement, the numbers which not get into the if statement will run the while loop infinite.\n",
    "# So that we have to make an else statement with break in it. Even if there is no requirement for else statement.\n",
    "# We can avoid these problem by making break on the same line of if statement. As given.\n",
    "\n",
    "# Important: Break only get you out of respective loop. S0 after while switch007_1, while not switch007_2 runs.\n",
    "# Important: that is why positioning is important. The second switch loop must be kept above the first switch loop.\n",
    "    return False\n",
    "\n",
    "print(spy_game([1, 2, 4, 0, 0, 7, 5]))\n",
    "print(spy_game([1, 0, 2, 4, 0, 5, 7]))\n",
    "print(spy_game([1, 7, 2, 0, 4, 5, 0]))                \n",
    "print(spy_game([1, 0, 7, 2, ]))                "
   ]
  },
  {
   "cell_type": "code",
   "execution_count": 5,
   "metadata": {},
   "outputs": [
    {
     "name": "stdout",
     "output_type": "stream",
     "text": [
      "True\n",
      "True\n",
      "False\n",
      "False\n"
     ]
    }
   ],
   "source": [
    "# Ans) Method in solutions:\n",
    "def spy_game_ms(list007_ms):\n",
    "    code007_ms = [0,0,7,'remaining']\n",
    "    for num007_ms in list007_ms:\n",
    "        if num007_ms == code007_ms[0]:\n",
    "            code007_ms.pop(0)\n",
    "    return len(code007_ms) == 1# Thug statement!!!!\n",
    "\n",
    "print(spy_game_ms([1, 2, 4, 0, 0, 7, 5]))\n",
    "print(spy_game_ms([1, 0, 2, 4, 0, 5, 7]))\n",
    "print(spy_game_ms([1, 7, 2, 0, 4, 5, 0]))  \n",
    "print(spy_game_ms([1, 0, 7, 2, ]))                "
   ]
  },
  {
   "cell_type": "code",
   "execution_count": 24,
   "metadata": {},
   "outputs": [
    {
     "name": "stdout",
     "output_type": "stream",
     "text": [
      "[2, 3, 5, 7, 11, 13, 17, 19, 23, 29, 31, 37, 41, 43, 47, 53, 59, 61, 67, 71, 73, 79, 83, 89, 97]\n",
      "25\n"
     ]
    }
   ],
   "source": [
    "'''Write a function that returns the number of prime numbers that exist up to and including a given number'''\n",
    "\n",
    "# Ans)\n",
    "# prime numbers never be an even number(other than 2).\n",
    "# least factor of every number lies, equal or below its root integer.\n",
    "import math\n",
    "\n",
    "def count_primes(num_prime):\n",
    "    primes_store = [2]# Only checking through odd numbers. So 2 added manually \n",
    "    if num_prime < 2:\n",
    "        return 0\n",
    "    for num_check in range(3, num_prime+1, 2):# if range(2,num_prime+1), we need the below statement.\n",
    "#        if num_check % 2 == 0 and num_check > 2:\n",
    "#            continue\n",
    "        for prime_check in range(3, int(math.sqrt(num_check)) + 1, 2):\n",
    "            if num_check % prime_check == 0 :\n",
    "                break\n",
    "        else:\n",
    "            primes_store.append(num_check)\n",
    "    print(primes_store)\n",
    "    return len(primes_store)\n",
    "\n",
    "print(count_primes(100))"
   ]
  },
  {
   "cell_type": "code",
   "execution_count": 70,
   "metadata": {},
   "outputs": [
    {
     "name": "stdout",
     "output_type": "stream",
     "text": [
      "*   *\n",
      "*   *\n",
      "*****\n",
      "*   *\n",
      "*   *\n",
      "\n",
      "  *  \n",
      " * * \n",
      "*****\n",
      "*   *\n",
      "*   *\n",
      "\n",
      "**** \n",
      "*   *\n",
      "**** \n",
      "* *  \n",
      "*   *\n",
      "\n",
      "*****\n",
      "  *  \n",
      "  *  \n",
      "  *  \n",
      "*****\n",
      "\n"
     ]
    }
   ],
   "source": [
    "'''Write a function that takes in a single letter, and returns a 5x5 representation of that letter'''\n",
    "\n",
    "# Ans)\n",
    "def print_big(letter55):\n",
    "    letter_pattern = ''\n",
    "    pattern_store = {1:'  *  ',2:' * * ',3:'*   *',4:'*****',5:'**** ',6:'***  ',7:'* *  ',8:'*  * ',9:' *** '}\n",
    "    alphabet55 = {'A':[1,2,4,3,3],'B':[5,3,5,3,5],'C':[4,9,9,9,4],'D':[5,3,3,3,5],'E':[4,9,4,9,4],'H':[3,3,4,3,3],'I':[4,1,1,1,4],'R':[5,3,5,7,3]}\n",
    "    for pattern55 in alphabet55[letter55.upper()]:\n",
    "        letter_pattern += pattern_store[pattern55] + '\\n'\n",
    "    return letter_pattern\n",
    "        \n",
    "print(print_big('h'))\n",
    "print(print_big('a'))\n",
    "print(print_big('r'))\n",
    "print(print_big('i'))"
   ]
  }
 ],
 "metadata": {
  "kernelspec": {
   "display_name": "Python 3",
   "language": "python",
   "name": "python3"
  },
  "language_info": {
   "codemirror_mode": {
    "name": "ipython",
    "version": 3
   },
   "file_extension": ".py",
   "mimetype": "text/x-python",
   "name": "python",
   "nbconvert_exporter": "python",
   "pygments_lexer": "ipython3",
   "version": "3.6.4"
  }
 },
 "nbformat": 4,
 "nbformat_minor": 2
}
