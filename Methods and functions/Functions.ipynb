{
 "cells": [
  {
   "cell_type": "code",
   "execution_count": 50,
   "metadata": {},
   "outputs": [
    {
     "name": "stdout",
     "output_type": "stream",
     "text": [
      "********Functions********\n",
      "\n",
      "\n",
      "********def statements*********\n",
      "\n",
      "Hello Aynar\n",
      "\n",
      "Adding two numbers 23 and 85.6: 108.6\n",
      "we can also add two strings: RaknasIrah\n",
      "\n",
      "It is prime.\n",
      "\n",
      "\n",
      "Enter the number to check: 887\n",
      "Is the number 887 prime? True\n"
     ]
    }
   ],
   "source": [
    "print('********Functions********\\n')\n",
    "'''\n",
    "Functions will be one of most basic levels of reusing code in Python.\n",
    "The arguments are the inputs for your function as reference.\n",
    "'''\n",
    "\n",
    "print('\\n********def statements*********\\n')\n",
    "\n",
    "# Greeting function\n",
    "def greet(name):\n",
    "    print('Hello %s'%name)\n",
    "greet('Aynar')\n",
    "\n",
    "# Using return\n",
    "# function to add two objects\n",
    "def add_obj(obj1,obj2):\n",
    "    return(obj1 + obj2)\n",
    "print(f'\\nAdding two numbers 23 and 85.6: {add_obj(23,85.6)}')\n",
    "print(f\"we can also add two strings: {add_obj('Raknas', 'Irah')}\\n\")\n",
    "\n",
    "# To check whether a number is prime or not \n",
    "# naive method\n",
    "# we know 1,2 and 3 are prime.\n",
    "# Here 1,2 aand 3 will execute in else statement.\n",
    "def  is_prime1(num1):\n",
    "    for n in range(2, int(num1/2) + 1):# If range(2, num) is written,only 1 and 2 will exicute in else statement.\n",
    "        if num1 % n == 0:\n",
    "            print('It is not prime.')\n",
    "            break\n",
    "    else:\n",
    "        print('It is prime.')\n",
    "is_prime1(29)\n",
    "\n",
    "# better method\n",
    "# Important Things to note:\n",
    "# prime numbers never be an even number(other than 2) so even numbers greater than 2 are to check first.\n",
    "# In loop, check divisiblity with odd numbers only, with modulo operator.\n",
    "# least factor of every number lies, equal or below its root integer.\n",
    "# Here 1,2,5 and 7 exicute in else statement without even get into if statement. \n",
    "# while all other even numbers execute at first if statement.\n",
    "\n",
    "import math\n",
    "\n",
    "def is_prime2(num2):\n",
    "    if num2 % 2 == 0 and num2 > 2:\n",
    "        return False\n",
    "    for oddn in range(3, int(math.sqrt(num2)) + 1, 2):\n",
    "        if num2 % oddn == 0:\n",
    "            return False\n",
    "    else: \n",
    "        return True\n",
    "\n",
    "num = int(input(\"\\n\\nEnter the number to check: \"))\n",
    "print(f\"Is the number {num} prime? {is_prime2(num)}\")    \n",
    "    \n"
   ]
  }
 ],
 "metadata": {
  "kernelspec": {
   "display_name": "Python 3",
   "language": "python",
   "name": "python3"
  },
  "language_info": {
   "codemirror_mode": {
    "name": "ipython",
    "version": 3
   },
   "file_extension": ".py",
   "mimetype": "text/x-python",
   "name": "python",
   "nbconvert_exporter": "python",
   "pygments_lexer": "ipython3",
   "version": "3.6.4"
  }
 },
 "nbformat": 4,
 "nbformat_minor": 2
}
