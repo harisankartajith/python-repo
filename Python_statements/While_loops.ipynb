{
 "cells": [
  {
   "cell_type": "code",
   "execution_count": 18,
   "metadata": {},
   "outputs": [
    {
     "name": "stdout",
     "output_type": "stream",
     "text": [
      "********While loops********\n",
      "\n",
      "0 is still less than 5, adding 1 to 0\n",
      "1 is still less than 5, adding 1 to 1\n",
      "2 is still less than 5, adding 1 to 2\n",
      "3 is still less than 5, adding 1 to 3\n",
      "4 is still less than 5, adding 1 to 4\n",
      "All Done!\n",
      "\n",
      "\n",
      "while looop with continue, break and pass statements\n",
      "\n",
      "0 is still less than 5, adding 1 to 0\n",
      "continuing...\n",
      "1 is still less than 5, adding 1 to 1\n",
      "Now it's 2\n",
      "2 is still less than 5, adding 1 to 2\n",
      "3 is still less than 5, adding 1 to 3\n"
     ]
    }
   ],
   "source": [
    "print(\"********While loops********\\n\")\n",
    "'''\n",
    "The code statements are looped through over and over again until the condition is no longer met.\n",
    "'''\n",
    "\n",
    "# We can use else statement while loop\n",
    "x = 0\n",
    "\n",
    "while x<5:\n",
    "    print(f'{x} is still less than 5, adding 1 to {x}')\n",
    "    x+=1\n",
    "    \n",
    "else:\n",
    "    print('All Done!')\n",
    "    \n",
    "# continue: Goes to the top of the closest enclosing loop.\n",
    "# break: Breaks out of the current closest enclosing loop.\n",
    "# pass: Does nothing at all.\n",
    "print(\"\\n\\nwhile looop with continue, break and pass statements\\n\")\n",
    "y = 0\n",
    "while y<5:\n",
    "    print(f'{y} is still less than 5, adding 1 to {y}')\n",
    "    y+=1\n",
    "    if y==2:\n",
    "        print(\"Now it's 2\")\n",
    "    elif y == 3:\n",
    "        pass# There is nothing to do at y==4, so pass\n",
    "    elif y==4:\n",
    "        break# beaks out of the loop, without any else statement\n",
    "    else:\n",
    "        print('continuing...')\n",
    "        continue# Straightly goes to the condition statement\n",
    "else:\n",
    "    print('All Done!')"
   ]
  }
 ],
 "metadata": {
  "kernelspec": {
   "display_name": "Python 3",
   "language": "python",
   "name": "python3"
  },
  "language_info": {
   "codemirror_mode": {
    "name": "ipython",
    "version": 3
   },
   "file_extension": ".py",
   "mimetype": "text/x-python",
   "name": "python",
   "nbconvert_exporter": "python",
   "pygments_lexer": "ipython3",
   "version": "3.6.4"
  }
 },
 "nbformat": 4,
 "nbformat_minor": 2
}
