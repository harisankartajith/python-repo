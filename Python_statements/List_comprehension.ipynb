{
 "cells": [
  {
   "cell_type": "code",
   "execution_count": 19,
   "metadata": {},
   "outputs": [
    {
     "name": "stdout",
     "output_type": "stream",
     "text": [
      "********List comprehension********\n",
      "\n",
      "[0, 1, 4, 9, 16, 25]\n",
      "[0, 2, 4, 6, 8, 10]\n",
      "[0, 1, 16, 81, 256, 625]\n",
      "\n",
      "\n",
      "Enter your room temparature: 30\n",
      "Your room temparature is: 86.0\n"
     ]
    }
   ],
   "source": [
    "print(\"********List comprehension********\\n\")\n",
    "'''\n",
    "List comprehension allows us to build an essential one line for loop inside of brackets.\n",
    "We can make every word in a string as list.\n",
    "'''\n",
    "\n",
    "# Square numbers in a range and initialize in list\n",
    "list1 = [num**2 for num in range(6)]\n",
    "print(list1)\n",
    "\n",
    "# to find even numbers in a range\n",
    "list2 = [n for n in range(11) if n%2 == 0]\n",
    "print(list2)\n",
    "\n",
    "# Nested list comprehension\n",
    "list3 = [x**2 for x in [y**2 for y in range(6)]]\n",
    "print(list3)\n",
    "\n",
    "# To convert Celcius into Fahrenheit\n",
    "cel = int(input('\\n\\nEnter your room temparature: '))# we have to cast string to int\n",
    "print(f\"Your room temparature is: {[((9/5)*temp + 32) for temp in [cel]][0]}\")# to take element from a single element list."
   ]
  },
  {
   "cell_type": "code",
   "execution_count": null,
   "metadata": {},
   "outputs": [],
   "source": []
  }
 ],
 "metadata": {
  "kernelspec": {
   "display_name": "Python 3",
   "language": "python",
   "name": "python3"
  },
  "language_info": {
   "codemirror_mode": {
    "name": "ipython",
    "version": 3
   },
   "file_extension": ".py",
   "mimetype": "text/x-python",
   "name": "python",
   "nbconvert_exporter": "python",
   "pygments_lexer": "ipython3",
   "version": "3.6.4"
  }
 },
 "nbformat": 4,
 "nbformat_minor": 2
}
