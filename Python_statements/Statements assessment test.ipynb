{
 "cells": [
  {
   "cell_type": "code",
   "execution_count": 51,
   "metadata": {},
   "outputs": [
    {
     "name": "stdout",
     "output_type": "stream",
     "text": [
      "********Statements assessment test********\n",
      "\n",
      "start\n",
      "s\n",
      "sentence\n"
     ]
    }
   ],
   "source": [
    "print(\"********Statements assessment test********\\n\")\n",
    "\n",
    "\n",
    "'''Use for, .split(), and if to create a Statement that will print out words that start with 's':'''\n",
    "st1 = 'Print only the words that start with s in this sentence'\n",
    "\n",
    "# Ans)\n",
    "for item in st.split(' '):\n",
    "    if item[0] == 's':\n",
    "        print(item)"
   ]
  },
  {
   "cell_type": "code",
   "execution_count": 45,
   "metadata": {},
   "outputs": [
    {
     "name": "stdout",
     "output_type": "stream",
     "text": [
      "[2, 4, 6, 8, 10]\n"
     ]
    }
   ],
   "source": [
    "'''Use range() to print all the even numbers from 0 to 10.'''\n",
    "\n",
    "# Ans)\n",
    "print(list(range(0,11,2))[1:])"
   ]
  },
  {
   "cell_type": "code",
   "execution_count": 46,
   "metadata": {},
   "outputs": [
    {
     "name": "stdout",
     "output_type": "stream",
     "text": [
      "[3, 6, 9, 12, 15, 18, 21, 24, 27, 30, 33, 36, 39, 42, 45, 48]\n"
     ]
    }
   ],
   "source": [
    "'''Use a List Comprehension to create a list of all numbers between 1 and 50 that are divisible by 3.'''\n",
    "\n",
    "# Ans)\n",
    "print([mul3 for mul3 in range(1,51) if mul3 % 3 == 0])"
   ]
  },
  {
   "cell_type": "code",
   "execution_count": 47,
   "metadata": {},
   "outputs": [
    {
     "name": "stdout",
     "output_type": "stream",
     "text": [
      "Length of the word 'word' is 'even!'\n",
      "Length of the word 'in' is 'even!'\n",
      "Length of the word 'this' is 'even!'\n",
      "Length of the word 'sentence' is 'even!'\n",
      "Length of the word 'that' is 'even!'\n",
      "Length of the word 'an' is 'even!'\n",
      "Length of the word 'even' is 'even!'\n",
      "Length of the word 'number' is 'even!'\n",
      "Length of the word 'of' is 'even!'\n"
     ]
    }
   ],
   "source": [
    "'''Go through the string below and if the length of a word is even print \"even!\"'''\n",
    "st2 = 'Print every word in this sentence that has an even number of letters'\n",
    "\n",
    "# Ans)\n",
    "for evenword in st2.split(' '):\n",
    "    if len(evenword) % 2 == 0:\n",
    "        print(\"Length of the word '\" + evenword + \"' is 'even!'\")"
   ]
  },
  {
   "cell_type": "code",
   "execution_count": 49,
   "metadata": {},
   "outputs": [
    {
     "name": "stdout",
     "output_type": "stream",
     "text": [
      "1\n",
      "2\n",
      "FizzBuzz\n",
      "Fizz\n",
      "4\n",
      "Buzz\n",
      "FizzBuzz\n",
      "Fizz\n",
      "7\n",
      "8\n",
      "FizzBuzz\n",
      "Fizz\n",
      "Buzz\n",
      "11\n",
      "FizzBuzz\n",
      "Fizz\n",
      "13\n",
      "14\n",
      "FizzBuzz\n",
      "Fizz\n",
      "16\n",
      "17\n",
      "FizzBuzz\n",
      "Fizz\n",
      "19\n",
      "Buzz\n",
      "FizzBuzz\n",
      "Fizz\n",
      "22\n",
      "23\n",
      "FizzBuzz\n",
      "Fizz\n",
      "Buzz\n",
      "26\n",
      "FizzBuzz\n",
      "Fizz\n",
      "28\n",
      "29\n",
      "FizzBuzz\n",
      "Fizz\n"
     ]
    }
   ],
   "source": [
    "'''Write a program that prints the integers from 1 to 30.'''\n",
    "'''But for multiples of three print \"Fizz\" instead of the number, and for the multiples of five print \"Buzz\".'''\n",
    "'''For numbers which are multiples of both three and five print \"FizzBuzz\".'''\n",
    "\n",
    "# Ans)\n",
    "for integer in range(1,31):\n",
    "    if integer%3 == 0 and integer1%5 == 0:# Position if this if statement is important\n",
    "        print('FizzBuzz')\n",
    "    if integer%3 == 0:\n",
    "        print('Fizz')\n",
    "    elif integer%5 == 0:\n",
    "        print('Buzz')\n",
    "    else:\n",
    "        print(integer)"
   ]
  },
  {
   "cell_type": "code",
   "execution_count": 50,
   "metadata": {},
   "outputs": [
    {
     "name": "stdout",
     "output_type": "stream",
     "text": [
      "['C', 'a', 'l', 'o', 't', 'f', 'l', 'o', 'e', 'w', 'i', 't', 's']\n"
     ]
    }
   ],
   "source": [
    "'''Use a List Comprehension to create a list of the first letters of every word in the string below:'''\n",
    "st3 = 'Create a list of the first letters of every word in this string'\n",
    "\n",
    "# Ans)\n",
    "print([word[0] for word in st3.split(' ')])"
   ]
  }
 ],
 "metadata": {
  "kernelspec": {
   "display_name": "Python 3",
   "language": "python",
   "name": "python3"
  },
  "language_info": {
   "codemirror_mode": {
    "name": "ipython",
    "version": 3
   },
   "file_extension": ".py",
   "mimetype": "text/x-python",
   "name": "python",
   "nbconvert_exporter": "python",
   "pygments_lexer": "ipython3",
   "version": "3.6.4"
  }
 },
 "nbformat": 4,
 "nbformat_minor": 2
}
