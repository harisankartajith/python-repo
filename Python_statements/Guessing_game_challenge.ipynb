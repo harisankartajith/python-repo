{
 "cells": [
  {
   "cell_type": "code",
   "execution_count": 9,
   "metadata": {},
   "outputs": [
    {
     "name": "stdout",
     "output_type": "stream",
     "text": [
      "Do you want to play a game?..(yes/no):  yes\n",
      "\n",
      "WELCOME TO GUESS ME!\n",
      "I'm thinking of a number between 1 and 100\n",
      "If your guess is more than 10 away from my number, I'll tell you you're COLD\n",
      "If your guess is within 10 of my number, I'll tell you you're WARM\n",
      "If your guess is farther than your most recent guess, I'll say you're getting COLDER\n",
      "If your guess is closer than your most recent guess, I'll say you're getting WARMER\n",
      "\n",
      "LET'S PLAY!\n",
      "  What is your guess? 50\n",
      "COLD!\n",
      "\n",
      "  What is your guess? 51\n",
      "WARMER!\n",
      "\n",
      "  What is your guess? 80\n",
      "COLDER!\n",
      "\n",
      "  What is your guess? 79\n",
      "WARMER!\n",
      "\n",
      "  What is your guess? 60\n",
      "WARMER!\n",
      "\n",
      "  What is your guess? 61\n",
      "You got it!!!\n",
      "CONGRATULATIONS, YOU GUESSED IT IN ONLY 5 GUESSES!!\n",
      "\n",
      "Do you want to continue..(yes/no): n\n",
      "Thank you.\n"
     ]
    }
   ],
   "source": [
    "from random import randint\n",
    "\n",
    "yesno = input('Do you want to play a game?..(yes/no):  ')\n",
    "while yesno == 'yes':\n",
    "    print(\"\\nWELCOME TO GUESS ME!\")\n",
    "    print(\"I'm thinking of a number between 1 and 100\")\n",
    "    print(\"If your guess is more than 10 away from my number, I'll tell you you're COLD\")\n",
    "    print(\"If your guess is within 10 of my number, I'll tell you you're WARM\")\n",
    "    print(\"If your guess is farther than your most recent guess, I'll say you're getting COLDER\")\n",
    "    print(\"If your guess is closer than your most recent guess, I'll say you're getting WARMER\")\n",
    "    print(\"\\nLET'S PLAY!\")\n",
    "    for ans in [randint(0,100)]:# This is a one-time loop\n",
    "        guess_list = []\n",
    "        while True:# To repeat entering numbers to find he answer\n",
    "            guess = int(input(\"  What is your guess? \"))\n",
    "            if guess < 0 or guess > 100:\n",
    "                print('OUT OF BOUNDS! Please try again.\\n')\n",
    "                continue# Straightly continuing while True loop\n",
    "            if guess == ans:\n",
    "                print('You got it!!!')\n",
    "                print(f'CONGRATULATIONS, YOU GUESSED IT IN ONLY {len(guess_list)} GUESSES!!')\n",
    "                break# Break from the while True loop\n",
    "            if guess_list == []:# It works only at the starting\n",
    "                if abs(guess-ans) <= 10:\n",
    "                    print('WARM!\\n')\n",
    "                else:\n",
    "                    print('COLD!\\n')\n",
    "            else:# This else is running mostly\n",
    "                if abs(guess-ans) <=  abs(guess_list[-1]-ans):\n",
    "                    print('WARMER!\\n')\n",
    "                else:\n",
    "                    print('COLDER!\\n')\n",
    "            guess_list.append(guess)\n",
    "    yesno = input('\\nDo you want to continue..(yes/no): ')# After for-loop, under while ans == 'yes loop.\n",
    "else:\n",
    "    print('Thank you.')\n",
    "            "
   ]
  }
 ],
 "metadata": {
  "kernelspec": {
   "display_name": "Python 3",
   "language": "python",
   "name": "python3"
  },
  "language_info": {
   "codemirror_mode": {
    "name": "ipython",
    "version": 3
   },
   "file_extension": ".py",
   "mimetype": "text/x-python",
   "name": "python",
   "nbconvert_exporter": "python",
   "pygments_lexer": "ipython3",
   "version": "3.6.4"
  }
 },
 "nbformat": 4,
 "nbformat_minor": 2
}
