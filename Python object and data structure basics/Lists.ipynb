{
 "cells": [
  {
   "cell_type": "code",
   "execution_count": 52,
   "metadata": {},
   "outputs": [
    {
     "name": "stdout",
     "output_type": "stream",
     "text": [
      "********List********\n",
      "\n",
      "['one', 'two', 3, 4.5, 'one', 'two', 3, 4.5]\n",
      "['one', 'two', 3, 'four', 4.3]\n",
      "\n",
      "\n",
      "********Basic list methods********\n",
      "\n",
      "['one', 'two', 3, 4.5, ['six', 6.4], 'five']\n",
      "five two\n",
      "The remaining list is:  ['one', 3, 4.5, ['six', 6.4]]\n",
      "[['six', 6.4], 4.5, 3, 'one']\n",
      "['six', 6.4] one\n",
      "[3, 4.5]\n",
      "['a', 'dog', 'drink', 'f', 'k']\n",
      "\n",
      "\n",
      "********Nesting lists********\n",
      "\n",
      "The nested list: [[3, 4.5], ['a', 'dog', 'drink', 'f', 'k']], Matrix indexing: [3, 4.5] and dog\n",
      "\n",
      "\n",
      "********List comprehensions********\n",
      "\n",
      "[[3, 4.5], ['a', 'dog', 'drink', 'f', 'k']]; [4.5, 'dog']; ['d', 'r', 'i', 'n', 'k']\n"
     ]
    }
   ],
   "source": [
    "print(\"********List********\\n\")\n",
    "'''\n",
    "data structure\n",
    "mutable\n",
    "can do indexing and slicing\n",
    "'''\n",
    "# indexing, slicing, concatination and duplication\n",
    "my_list = ['one', 'two', 3, 4.5]\n",
    "print(my_list * 2)\n",
    "print(my_list[:3] + ['four', 4.3])\n",
    "\n",
    "\n",
    "print(\"\\n\\n********Basic list methods********\\n\")\n",
    "\n",
    "# append()\n",
    "my_list.append(['six', 6.4])\n",
    "my_list.append('five')\n",
    "print(my_list)\n",
    "\n",
    "# pop()\n",
    "print(my_list.pop(), my_list.pop(1))\n",
    "print(\"The remaining list is: \", my_list)\n",
    "\n",
    "# reverse()\n",
    "my_list.reverse()\n",
    "print(my_list)\n",
    "\n",
    "# sort()\n",
    "print(my_list.pop(0), my_list .pop(2))\n",
    "my_list.sort()\n",
    "print(my_list)\n",
    "\n",
    "new_list = ['a', 'f', 'drink', 'k', 'dog']\n",
    "new_list.sort()\n",
    "print(new_list)\n",
    "\n",
    "\n",
    "print('\\n\\n********Nesting lists********\\n')\n",
    "\n",
    "matrix = [my_list, new_list]\n",
    "print(f\"The nested list: {matrix}, Matrix indexing: {matrix[0]} and {matrix[1][1]}\")\n",
    "\n",
    "\n",
    "print(\"\\n\\n********List comprehensions********\\n\")\n",
    "\n",
    "# by deconstructing a for loop within a list\n",
    "print(f\"{[row for row in matrix]}; {[row[1] for row in matrix]}; {[row for row in matrix[1][2]]}\")"
   ]
  },
  {
   "cell_type": "code",
   "execution_count": null,
   "metadata": {},
   "outputs": [],
   "source": []
  }
 ],
 "metadata": {
  "kernelspec": {
   "display_name": "Python 3",
   "language": "python",
   "name": "python3"
  },
  "language_info": {
   "codemirror_mode": {
    "name": "ipython",
    "version": 3
   },
   "file_extension": ".py",
   "mimetype": "text/x-python",
   "name": "python",
   "nbconvert_exporter": "python",
   "pygments_lexer": "ipython3",
   "version": "3.6.4"
  }
 },
 "nbformat": 4,
 "nbformat_minor": 2
}
