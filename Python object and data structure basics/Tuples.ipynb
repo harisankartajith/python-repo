{
 "cells": [
  {
   "cell_type": "code",
   "execution_count": 36,
   "metadata": {},
   "outputs": [
    {
     "name": "stdout",
     "output_type": "stream",
     "text": [
      "********Tuples********\n",
      "\n",
      "Tuple t: (23, 'xray', 85.6)\n",
      "t[0]: 23; t[1]: xray; t[2]: 85.6\n",
      "Reversed t, t[::-1]: (85.6, 'xray', 23)\n",
      "sum of t and reversed t: (23, 'xray', 85.6, 85.6, 'xray', 23)\n",
      "Length of t: 3\n",
      "\n",
      "\n",
      "********Tuple methods********\n",
      "\n",
      "Index of 23: 0; Index of xray: 1; Index of 85.6: 2\n",
      "Count the number of times, xray repeated in t: 1\n",
      "Number of times, xray repeated in 't + reversed_t': 2\n"
     ]
    }
   ],
   "source": [
    "print(\"********Tuples********\\n\")\n",
    "'''\n",
    "Similar to list\n",
    "Immutable\n",
    "Indexing, slicing and concatination can be done\n",
    "Tuples to present things that shouldn't be changed\n",
    "'''\n",
    "t = (23, 'xray', 85.6)\n",
    "print(\"Tuple t: {}\".format(t))\n",
    "\n",
    "# Indexing\n",
    "print(\"t[0]: {2}; t[1]: {0}; t[2]: {1}\".format(t[1], t[2], t[0]))\n",
    "\n",
    "#slicing\n",
    "print(\"Reversed t, t[::-1]: {}\".format(t[::-1]))\n",
    "\n",
    "# Concatenation: adding same data types\n",
    "print(\"sum of t and reversed t: {}\".format(t + t[::-1]))\n",
    "\n",
    "# len()\n",
    "print(\"Length of t: {}\".format(len(t)))\n",
    "\n",
    "\n",
    "print(\"\\n\\n********Tuple methods********\\n\")\n",
    "\n",
    "# index()\n",
    "print(\"Index of 23: %d; Index of xray: %d; Index of 85.6: %d\"%(t.index(23), t.index('xray'), t.index(85.6)))\n",
    "\n",
    "# count()\n",
    "print(f\"Count the number of times, xray repeated in t: {t.count('xray')}\" )\n",
    "print(\"Number of times, xray repeated in 't + reversed_t': {}\".format((t + t[::-1]).count('xray')))\n",
    "\n",
    "# If we try to mutate a tuple we get TypeError: 'tuple' object does not support item assignment\n",
    "# If we try to append a tuple we get TypeError: 'tuple' object has no attribute 'append'"
   ]
  },
  {
   "cell_type": "code",
   "execution_count": null,
   "metadata": {},
   "outputs": [],
   "source": []
  }
 ],
 "metadata": {
  "kernelspec": {
   "display_name": "Python 3",
   "language": "python",
   "name": "python3"
  },
  "language_info": {
   "codemirror_mode": {
    "name": "ipython",
    "version": 3
   },
   "file_extension": ".py",
   "mimetype": "text/x-python",
   "name": "python",
   "nbconvert_exporter": "python",
   "pygments_lexer": "ipython3",
   "version": "3.6.4"
  }
 },
 "nbformat": 4,
 "nbformat_minor": 2
}
