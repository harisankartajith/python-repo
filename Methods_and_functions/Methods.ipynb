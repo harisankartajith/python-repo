{
 "cells": [
  {
   "cell_type": "code",
   "execution_count": 34,
   "metadata": {},
   "outputs": [
    {
     "name": "stdout",
     "output_type": "stream",
     "text": [
      "********Methods********\n",
      "\n",
      "2\n",
      "[2, 88, 6, 59, 23.8, 88, 'Raknas', 28]\n",
      "[2, 88, 6, 59, 23.8, 88, 'Raknas', 28, 'I', 'r', 'a', 'h']\n",
      "[2, 88, 6, 'Aynar', 59, 23.8, 88, 'Raknas', 28, 'I', 'r', 'a', 'h']\n",
      "[2, 6, 'Aynar', 59, 23.8, 88, 'Raknas', 28, 'I', 'r', 'a', 'h']\n"
     ]
    }
   ],
   "source": [
    "print(\"********Methods********\\n\")\n",
    "'''\n",
    "Methods are essentially functions built into objects.\n",
    "We'll later see that we can think of methods as having an argument 'self' referring to the object itself.\n",
    "The methods for a list are:\n",
    "append\n",
    "count\n",
    "extend\n",
    "insert\n",
    "pop\n",
    "remove\n",
    "reverse\n",
    "sort\n",
    "'''\n",
    "\n",
    "lst = [2, 88, 6, 59, 23.8, 88]\n",
    "\n",
    "# count\n",
    "# it will return the result\n",
    "print(lst.count(88))\n",
    "\n",
    "# extend\n",
    "# it will return None\n",
    "lst.extend(['Raknas', 28])# extending with an another list\n",
    "print(lst)\n",
    "\n",
    "lst.extend('Irah')# extended a string as letters\n",
    "print(lst)\n",
    "\n",
    "# insert\n",
    "# returns None\n",
    "lst.insert(3, 'Aynar')# Inserted object at index position 3\n",
    "print(lst)\n",
    "\n",
    "# remove\n",
    "# returns None\n",
    "lst.remove(88)# removed value from list\n",
    "print(lst)"
   ]
  }
 ],
 "metadata": {
  "kernelspec": {
   "display_name": "Python 3",
   "language": "python",
   "name": "python3"
  },
  "language_info": {
   "codemirror_mode": {
    "name": "ipython",
    "version": 3
   },
   "file_extension": ".py",
   "mimetype": "text/x-python",
   "name": "python",
   "nbconvert_exporter": "python",
   "pygments_lexer": "ipython3",
   "version": "3.6.4"
  }
 },
 "nbformat": 4,
 "nbformat_minor": 2
}
